{
  "nbformat": 4,
  "nbformat_minor": 0,
  "metadata": {
    "colab": {
      "provenance": []
    },
    "kernelspec": {
      "name": "python3",
      "display_name": "Python 3"
    },
    "language_info": {
      "name": "python"
    }
  },
  "cells": [
    {
      "cell_type": "code",
      "execution_count": null,
      "metadata": {
        "id": "zfpfYHLr8flO"
      },
      "outputs": [],
      "source": [
        "import matplotlib as pyplot\n",
        "import seaborn as sns\n",
        "\n",
        "ax = sns.countplot(train_df['label'])\n",
        "\n",
        "for p, label in zip(ax.patches, label_list):\n",
        "    ax.annotate(label, (p.get_x(), p.get_height() + 0.15))"
      ]
    }
  ]
}