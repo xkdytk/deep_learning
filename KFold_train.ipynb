{
  "nbformat": 4,
  "nbformat_minor": 0,
  "metadata": {
    "colab": {
      "provenance": []
    },
    "kernelspec": {
      "name": "python3",
      "display_name": "Python 3"
    },
    "language_info": {
      "name": "python"
    }
  },
  "cells": [
    {
      "cell_type": "code",
      "execution_count": null,
      "metadata": {
        "id": "IU9pd1Clrt3t"
      },
      "outputs": [],
      "source": [
        "# optimizer 뒤에\n",
        "scheduler = ReduceLROnPlateau(optimizer, patience=3, factor=0.5, mode='max', verbose=True)\n",
        "\n",
        "kfold_n = 5\n",
        "datas = split_df(train_df)\n",
        "for fold in range(1, kfold_n + 1):\n",
        "    args.kfold = fold\n",
        "\n",
        "    # 하나의 fold만 사용\n",
        "    train_data = datas[args.kfold - 1][0]\n",
        "    valid_data = datas[args.kfold - 1][1]\n",
        "\n",
        "    train_dataset = ArtDataset(train_data, transform)\n",
        "    valid_dataset = ArtDataset(valid_data, transform)\n",
        "\n",
        "\n",
        "    train_loader = DataLoader(train_dataset,\n",
        "                              batch_size = hyper_parameters.batch_size,\n",
        "                              shuffle = True,\n",
        "                              num_workers = 1)\n",
        "    valid_loader = DataLoader(valid_dataset,\n",
        "                              batch_size=hyper_parameters.batch_size,\n",
        "                              shuffle=False,\n",
        "                              num_workers=1)\n",
        "\n",
        "    early_stopping_counter = 0\n",
        "    best_acc = -1\n",
        "    patience = 5\n",
        "    for epoch in range(hyper_parameters.epoch):\n",
        "\n",
        "      train_len = len(train_data)\n",
        "      valid_len = len(valid_data)\n",
        "\n",
        "      train_acc = train(model, hyper_parameters, train_loader, train_len)\n",
        "      valid_acc = validate(model, hyper_parameters, valid_loader, valid_len)\n",
        "\n",
        "      print(\"[Epoch {}] Train ACC : {}, Valid ACC : {}\".format(epoch, train_acc, valid_acc))\n",
        "\n",
        "      if valid_acc > best_acc:\n",
        "          best_acc = valid_acc\n",
        "          early_stopping_counter = 0\n",
        "\n",
        "      else:\n",
        "          early_stopping_counter += 1\n",
        "          if early_stopping_counter >= patience:\n",
        "              print(f'EarlyStopping counter: {early_stopping_counter} out of {patience}')\n",
        "              break\n",
        "\n",
        "      # scheduler\n",
        "      scheduler.step(best_acc)"
      ]
    }
  ]
}