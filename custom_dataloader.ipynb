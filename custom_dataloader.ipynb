{
  "nbformat": 4,
  "nbformat_minor": 0,
  "metadata": {
    "colab": {
      "provenance": []
    },
    "kernelspec": {
      "name": "python3",
      "display_name": "Python 3"
    },
    "language_info": {
      "name": "python"
    }
  },
  "cells": [
    {
      "cell_type": "code",
      "execution_count": null,
      "metadata": {
        "id": "nVvGK_JG0ZEx"
      },
      "outputs": [],
      "source": [
        "class CustomDataset(Dataset):\n",
        "  def __init__(self, data_root, train_mode):\n",
        "    super(CustomDataset, self).__init__()\n",
        "    self.train_mode=train_mode\n",
        "\n",
        "    if self.train_mode==False:\n",
        "      self.img_list = glob(os.path.join(data_root, '*.jpg'))\n",
        "      self.img_list.sort(key=lambda x:int(x.split('/')[3][:-4]))\n",
        "    else:\n",
        "      self.img_list = glob(os.path.join(data_root, '*/*.jpg'))\n",
        "      self.train_y=[]\n",
        "      for img_path in self.img_list:\n",
        "        self.train_y.append(int(img_path.split('/')[3]))\n",
        "\n",
        "    self.len = len(self.img_list)\n",
        "\n",
        "  def __getitem__(self, index):\n",
        "    img_path = self.img_list[index]\n",
        "    if self.train_mode:\n",
        "      label=int(img_path.split('/')[3])\n",
        "    # Image Loading\n",
        "    img = Image.open(img_path)\n",
        "\n",
        "    if self.train_mode:\n",
        "      return img,label\n",
        "    else:\n",
        "      return img\n",
        "\n",
        "  def __len__(self):\n",
        "    return self.len"
      ]
    },
    {
      "cell_type": "code",
      "source": [
        "train_transforms=transforms.Compose([\n",
        "    transforms.RandomChoice([\n",
        "        transforms.ColorJitter(brightness=(1,1.1)),\n",
        "        transforms.ColorJitter(contrast=0.1),\n",
        "        transforms.ColorJitter(saturation=0.1),\n",
        "    ]),\n",
        "    transforms.RandomChoice([\n",
        "        transforms.RandomAffine(degrees=15, translate=(0.2, 0.2), scale=(0.8, 1.2), shear=10, resample=Image.BILINEAR,fill=255),\n",
        "        transforms.RandomCrop((224,224)),\n",
        "    ]),\n",
        "    transforms.ToTensor(),\n",
        "    transforms.Resize((224, 224)),\n",
        "    transforms.Normalize([0.485, 0.456, 0.406],\n",
        "                         [0.229, 0.224, 0.225])\n",
        "])\n",
        "test_transforms=transforms.Compose([transforms.ToTensor(),\n",
        "                                    transforms.Resize((224,224)),\n",
        "                                    transforms.Normalize([0.485, 0.456, 0.406],\n",
        "                                                          [0.229, 0.224, 0.225])])"
      ],
      "metadata": {
        "id": "dw6xjy7t1HIT"
      },
      "execution_count": null,
      "outputs": []
    }
  ]
}