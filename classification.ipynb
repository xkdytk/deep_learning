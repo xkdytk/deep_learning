{
  "nbformat": 4,
  "nbformat_minor": 0,
  "metadata": {
    "colab": {
      "provenance": [],
      "gpuType": "T4",
      "collapsed_sections": [
        "xcACWSvWvXhO",
        "STzyGUhDufZY",
        "xrGSPFu9usCI",
        "892th_oyu1bT",
        "iuIizGvku5uG",
        "KjEd_6ZwvBi_",
        "WA1FcXutvGI8",
        "eSsrBgxuvMeV",
        "tE4KomZVvRDt"
      ]
    },
    "kernelspec": {
      "name": "python3",
      "display_name": "Python 3"
    },
    "language_info": {
      "name": "python"
    },
    "accelerator": "GPU"
  },
  "cells": [
    {
      "cell_type": "code",
      "execution_count": null,
      "metadata": {
        "id": "dsV6A-r9AdZE"
      },
      "outputs": [],
      "source": [
        "import os\n",
        "\n",
        "import numpy as np\n",
        "import pandas as pd\n",
        "\n",
        "# 이미지\n",
        "from PIL import Image\n",
        "\n",
        "# 시각화\n",
        "import matplotlib.pyplot as plt\n",
        "\n",
        "# PyTorch\n",
        "import torch\n",
        "from torch.utils.data import Dataset\n",
        "from torch.utils.data import DataLoader\n",
        "\n",
        "import torch.nn as nn\n",
        "import torch.nn.functional as F\n",
        "from torch.optim import Adam, AdamW\n",
        "\n",
        "from torchvision import transforms"
      ]
    },
    {
      "cell_type": "code",
      "source": [
        "!unzip train.zip\n",
        "!unzip test.zip"
      ],
      "metadata": {
        "id": "SOsnysrWrryX"
      },
      "execution_count": null,
      "outputs": []
    },
    {
      "cell_type": "markdown",
      "source": [
        "# **데이터셋 경로 지정**"
      ],
      "metadata": {
        "id": "SVWhnyWpwH0o"
      }
    },
    {
      "cell_type": "code",
      "source": [
        "PROJECT_PATH = \"/content\"\n",
        "\n",
        "# 데이터셋 패스 설정\n",
        "TRAIN_PATH = os.path.join(PROJECT_PATH, 'train')\n",
        "TEST_PATH = os.path.join(PROJECT_PATH, 'test')"
      ],
      "metadata": {
        "id": "oir5K9w1EALm"
      },
      "execution_count": null,
      "outputs": []
    },
    {
      "cell_type": "markdown",
      "source": [
        "# **Label 숫자화**"
      ],
      "metadata": {
        "id": "Pu-RMKTHwC56"
      }
    },
    {
      "cell_type": "code",
      "source": [
        "label2idx = {'dog': 0,\n",
        "             'elephant': 1,\n",
        "             'giraffe': 2,\n",
        "             'guitar': 3,\n",
        "             'horse': 4,\n",
        "             'house': 5,\n",
        "             'person': 6}"
      ],
      "metadata": {
        "id": "6kU5oyY2ESmX"
      },
      "execution_count": null,
      "outputs": []
    },
    {
      "cell_type": "markdown",
      "source": [
        "# **Train Label 데이터 프레임 만들기**"
      ],
      "metadata": {
        "id": "xbqJyEX4v9nb"
      }
    },
    {
      "cell_type": "code",
      "source": [
        "# train_df 만들기\n",
        "labels = []\n",
        "for path in os.walk(TRAIN_PATH):\n",
        "    label_type = path[0].split('/')[-1]\n",
        "    if label_type == 'train':\n",
        "        continue\n",
        "\n",
        "    base_path = path[0]\n",
        "    images = path[2]\n",
        "\n",
        "    idx = label2idx[label_type]\n",
        "    for image in images:\n",
        "        img_path = os.path.join(base_path, image)\n",
        "        label = {'img_path': img_path,\n",
        "                 'label': idx}\n",
        "\n",
        "        labels.append(label)\n",
        "\n",
        "train_df = pd.DataFrame(labels)\n",
        "train_df = train_df.sort_values(['label', 'img_path'])\n",
        "train_df = train_df.reset_index(drop=True)\n",
        "train_df.head(5)"
      ],
      "metadata": {
        "id": "Al6jg4RqFAiy"
      },
      "execution_count": null,
      "outputs": []
    },
    {
      "cell_type": "markdown",
      "source": [
        "# **Test Label 데이터 프레임 만들기**"
      ],
      "metadata": {
        "id": "6y1pNOZjvu_-"
      }
    },
    {
      "cell_type": "code",
      "source": [
        "# test_df 만들기\n",
        "labels = []\n",
        "for path in os.walk(TEST_PATH):\n",
        "    base_path = path[0]\n",
        "    images = path[2]\n",
        "\n",
        "    for image in images:\n",
        "        img_path = os.path.join(base_path, image)\n",
        "        label = {'img_path': img_path,\n",
        "                 'label': -1}\n",
        "\n",
        "        labels.append(label)\n",
        "\n",
        "test_DF = pd.DataFrame(labels)\n",
        "test_DF = test_DF.sort_values(['img_path'])\n",
        "test_DF = test_DF.reset_index(drop=True)\n",
        "test_DF.head(5)"
      ],
      "metadata": {
        "id": "G19ByJfzFrRU"
      },
      "execution_count": null,
      "outputs": []
    },
    {
      "cell_type": "markdown",
      "source": [
        "# **이미지 잘 들어왔나 확인**"
      ],
      "metadata": {
        "id": "aoWNaQGrvnpz"
      }
    },
    {
      "cell_type": "code",
      "source": [
        "image = plt.imread(train_df['img_path'][0])\n",
        "plt.imshow(image)"
      ],
      "metadata": {
        "id": "dnlERL-xaEZ0"
      },
      "execution_count": null,
      "outputs": []
    },
    {
      "cell_type": "code",
      "source": [
        "image = plt.imread(test_df['img_path'][0])\n",
        "plt.imshow(image)"
      ],
      "metadata": {
        "id": "VmJgb2a0aFEJ"
      },
      "execution_count": null,
      "outputs": []
    },
    {
      "cell_type": "markdown",
      "source": [
        "# **사용자 데이터셋 클래스 정의**"
      ],
      "metadata": {
        "id": "2DcWtxPbvjDo"
      }
    },
    {
      "cell_type": "code",
      "source": [
        "class ArtDataset(Dataset):\n",
        "    def __init__(self, df, transform=None):\n",
        "        self.df = df\n",
        "        self.transform = transform\n",
        "\n",
        "    def __getitem__(self, idx):\n",
        "        data = self.df.iloc[idx]\n",
        "\n",
        "        # 이미지\n",
        "        img_path = data['img_path']\n",
        "        image = Image.open(img_path)\n",
        "\n",
        "        if self.transform:\n",
        "            image = self.transform(image)\n",
        "\n",
        "        # 라벨\n",
        "        label = data['label']\n",
        "\n",
        "        return image, label\n",
        "\n",
        "    def __len__(self):\n",
        "        return len(self.df)"
      ],
      "metadata": {
        "id": "uIAyJdpBaVf-"
      },
      "execution_count": null,
      "outputs": []
    },
    {
      "cell_type": "markdown",
      "source": [
        "# **Train, Vaild 데이터 나누기**"
      ],
      "metadata": {
        "id": "IAK98xWsbVAd"
      }
    },
    {
      "cell_type": "code",
      "source": [
        "from sklearn.model_selection import StratifiedKFold\n",
        "\n",
        "def split_df(df, kfold_n=5):\n",
        "    kfold = StratifiedKFold(n_splits=kfold_n)\n",
        "\n",
        "    # 클래스 비율 고려하여 Fold별로 데이터 나눔\n",
        "    X = df.img_path.values\n",
        "    y = df.label.values\n",
        "\n",
        "    for i, (train_index, valid_index) in enumerate(kfold.split(X, y)):\n",
        "        train_df = df.iloc[train_index].copy().reset_index(drop=True)\n",
        "        valid_df = df.iloc[valid_index].copy().reset_index(drop=True)\n",
        "\n",
        "    return train_df, valid_df"
      ],
      "metadata": {
        "id": "7io2U2UibTAU"
      },
      "execution_count": null,
      "outputs": []
    },
    {
      "cell_type": "code",
      "source": [
        "train_df, valid_df = split_df(train_df)"
      ],
      "metadata": {
        "id": "Zka3adJzbbNg"
      },
      "execution_count": null,
      "outputs": []
    },
    {
      "cell_type": "code",
      "source": [
        "from sklearn.model_selection import train_test_split\n",
        "datasets = train_test_split(train_DF, test_size=0.1, random_state=42, shuffle=True)\n",
        "\n",
        "train_df = datasets[0]\n",
        "valid_df = datasets[1]\n",
        "print(train_dataset)\n",
        "print(val_dataset)"
      ],
      "metadata": {
        "id": "v214MQTbnuQ6"
      },
      "execution_count": null,
      "outputs": []
    },
    {
      "cell_type": "markdown",
      "source": [
        "# **하이퍼파라미터 설정**"
      ],
      "metadata": {
        "id": "STzyGUhDufZY"
      }
    },
    {
      "cell_type": "code",
      "source": [
        "class HyperParams:\n",
        "  def __init__(self, epoch=50, batch_size=64, lr=0.005):\n",
        "    self.epoch = epoch\n",
        "    self.batch_size = batch_size\n",
        "    self.lr = lr\n",
        "    self.use_cuda = torch.cuda.is_available()\n",
        "    self.device = torch.device(\"cuda:0\" if self.use_cuda else 'cpu')\n",
        "\n",
        "  def print_params(self):\n",
        "    print(\"------------- Parameter Table -------------\")\n",
        "    print(\"* EPOCH          : {}\".format(self.epoch))\n",
        "    print(\"* BATCH_SIZE     : {}\".format(self.batch_size))\n",
        "    print(\"* LEARNING RATE  : {}\".format(self.lr))\n",
        "    print(\"* USE_CUDA       : {}\".format(self.use_cuda))\n",
        "    print(\"* DEVICE         : {}\".format(self.device))\n",
        "    print(\"-------------------------------------------\")\n"
      ],
      "metadata": {
        "id": "hGe3CMFtAnov"
      },
      "execution_count": null,
      "outputs": []
    },
    {
      "cell_type": "code",
      "source": [
        "# Set Hyper Parameters\n",
        "hyper_parameters = HyperParams(epoch=10, batch_size = 16, lr = 0.0001)\n",
        "hyper_parameters.print_params()"
      ],
      "metadata": {
        "id": "ciRmeDhkB50G"
      },
      "execution_count": null,
      "outputs": []
    },
    {
      "cell_type": "markdown",
      "source": [
        "# **Train, Valid 데이터 정의**"
      ],
      "metadata": {
        "id": "xcACWSvWvXhO"
      }
    },
    {
      "cell_type": "code",
      "source": [
        "transform = transforms.Compose([transforms.CenterCrop(224),\n",
        "                                transforms.ToTensor(),\n",
        "                                transforms.Normalize([0.485, 0.456, 0.406],\n",
        "                                                     [0.229, 0.224, 0.225])])\n",
        "\n",
        "train_dataset = ArtDataset(train_df, transform)\n",
        "valid_dataset = ArtDataset(valid_df, transform)\n",
        "\n",
        "\n",
        "train_loader = DataLoader(train_dataset,\n",
        "                          batch_size = hyper_parameters.batch_size,\n",
        "                          shuffle = True,\n",
        "                          num_workers = 1)\n",
        "valid_loader = DataLoader(valid_dataset,\n",
        "                          batch_size=hyper_parameters.batch_size,\n",
        "                          shuffle=False,\n",
        "                          num_workers=1)\n",
        "\n",
        "\n",
        "print(\"* train_loader.shape : {}\".format(len(train_loader)))"
      ],
      "metadata": {
        "id": "2SP7bjIpbibG"
      },
      "execution_count": null,
      "outputs": []
    },
    {
      "cell_type": "markdown",
      "source": [
        "# **모델 설정**\n",
        "\n"
      ],
      "metadata": {
        "id": "xrGSPFu9usCI"
      }
    },
    {
      "cell_type": "code",
      "source": [
        "class ConvNet(nn.Module):\n",
        "    def __init__(self, class_n=7):\n",
        "        super().__init__()\n",
        "\n",
        "        self.model = nn.Sequential(\n",
        "            # [32, 3, 224, 224] -> [32, 32, 55, 55]\n",
        "            nn.Conv2d(in_channels=3, out_channels=32, kernel_size=8, stride=4),\n",
        "            nn.BatchNorm2d(32),\n",
        "            nn.ReLU(),\n",
        "            nn.MaxPool2d((2, 2)), # [32, 64, 55, 55] -> [32, 64, 27, 27]\n",
        "\n",
        "            # [32, 32, 27, 27] -> [32, 64, 11, 11]\n",
        "            nn.Conv2d(in_channels=32, out_channels=64, kernel_size=7, stride=2),\n",
        "            nn.BatchNorm2d(64),\n",
        "            nn.ReLU(),\n",
        "            nn.MaxPool2d((2, 2)), # [32, 64, 11, 11] -> [32, 64, 5, 5]\n",
        "        )\n",
        "        self.fc = nn.Linear(1600, class_n)\n",
        "\n",
        "\n",
        "    def forward(self, x):\n",
        "        x = self.model(x)\n",
        "        x = x.view(x.size(0), -1)\n",
        "        return self.fc(x)"
      ],
      "metadata": {
        "id": "zepiQNR2cEJd"
      },
      "execution_count": null,
      "outputs": []
    },
    {
      "cell_type": "code",
      "source": [
        "model = ConvNet().to(hyper_parameters.device)\n",
        "\n",
        "optimizer = torch.optim.Adam(model.parameters(), lr = hyper_parameters.lr, weight_decay=0.0)\n",
        "optimizer.zero_grad()\n",
        "\n",
        "criterion = nn.CrossEntropyLoss()"
      ],
      "metadata": {
        "id": "CAGngAVCd4os"
      },
      "execution_count": null,
      "outputs": []
    },
    {
      "cell_type": "markdown",
      "source": [
        "# **Train 함수 작성**"
      ],
      "metadata": {
        "id": "892th_oyu1bT"
      }
    },
    {
      "cell_type": "code",
      "source": [
        "def train(model, hp, train_loader, train_len):\n",
        "  model.train()\n",
        "\n",
        "  corrects = 0\n",
        "\n",
        "  for step, (x, label) in enumerate(train_loader):\n",
        "    images = x.to(hp.device)\n",
        "    labels = label.to(hp.device)\n",
        "\n",
        "    outputs = model(images)\n",
        "\n",
        "    loss = criterion(outputs, labels)\n",
        "    loss.backward()\n",
        "\n",
        "    optimizer.step()\n",
        "    optimizer.zero_grad()\n",
        "\n",
        "    if step % 100 == 0:\n",
        "      print(f\"Training steps: {step} Loss: {str(loss.item())}\")\n",
        "\n",
        "    _, preds = torch.max(outputs, 1)\n",
        "\n",
        "    corrects += torch.sum(preds == labels.data)\n",
        "\n",
        "  acc = corrects / train_len\n",
        "\n",
        "  return acc"
      ],
      "metadata": {
        "id": "zBQm20bJejBJ"
      },
      "execution_count": null,
      "outputs": []
    },
    {
      "cell_type": "markdown",
      "source": [
        "# **Validation 함수 작성**"
      ],
      "metadata": {
        "id": "iuIizGvku5uG"
      }
    },
    {
      "cell_type": "code",
      "source": [
        "def validate(model, hp, valid_loader, valid_len):\n",
        "    model.eval()\n",
        "\n",
        "    corrects = 0\n",
        "\n",
        "    for images, labels in valid_loader:\n",
        "        images = images.to(hp.device)\n",
        "        labels = labels.to(hp.device)\n",
        "\n",
        "\n",
        "        outputs = model(images)\n",
        "\n",
        "        _, preds = torch.max(outputs, 1)\n",
        "        corrects += torch.sum(preds == labels.data)\n",
        "\n",
        "    acc = corrects / valid_len\n",
        "\n",
        "    print(f'VALID ACC : {acc}\\n')\n",
        "\n",
        "    return acc"
      ],
      "metadata": {
        "id": "WdJEni23ivIM"
      },
      "execution_count": null,
      "outputs": []
    },
    {
      "cell_type": "markdown",
      "source": [
        "# **Train 시작**"
      ],
      "metadata": {
        "id": "KjEd_6ZwvBi_"
      }
    },
    {
      "cell_type": "code",
      "source": [
        "for epoch in range(hyper_parameters.epoch):\n",
        "\n",
        "  train_len = len(train_df)\n",
        "  valid_len = len(valid_df)\n",
        "\n",
        "  train_acc = train(model, hyper_parameters, train_loader, train_len)\n",
        "  valid_acc = validate(model, hyper_parameters, valid_loader, valid_len)\n",
        "\n",
        "  print(\"[Epoch {}] Train ACC : {}, Valid ACC : {}\".format(epoch, train_acc, valid_acc))"
      ],
      "metadata": {
        "id": "soW58T38gegZ"
      },
      "execution_count": null,
      "outputs": []
    },
    {
      "cell_type": "markdown",
      "source": [
        "# **Test 데이터 정의**"
      ],
      "metadata": {
        "id": "WA1FcXutvGI8"
      }
    },
    {
      "cell_type": "code",
      "source": [
        "test_dataset = ArtDataset(test_df, transform)\n",
        "\n",
        "test_loader = DataLoader(test_dataset,\n",
        "                          batch_size=1,\n",
        "                          shuffle=False,\n",
        "                          num_workers=1)\n",
        "print(len(test_dataset))"
      ],
      "metadata": {
        "id": "dd5oR_FZgtqT"
      },
      "execution_count": null,
      "outputs": []
    },
    {
      "cell_type": "markdown",
      "source": [
        "# **Test 시작**"
      ],
      "metadata": {
        "id": "eSsrBgxuvMeV"
      }
    },
    {
      "cell_type": "code",
      "source": [
        "model.eval()\n",
        "answers = []\n",
        "for images, labels in test_loader:\n",
        "    images = images.to(hyper_parameters.device)\n",
        "    labels = labels.to(hyper_parameters.device)\n",
        "\n",
        "    outputs = model(images)\n",
        "\n",
        "    _, preds = torch.max(outputs, 1)\n",
        "\n",
        "    answers.extend(list(preds.cpu().numpy()))"
      ],
      "metadata": {
        "id": "71yM4BT3oRRv"
      },
      "execution_count": null,
      "outputs": []
    },
    {
      "cell_type": "code",
      "source": [
        "print(answers)\n",
        "print(len(answers))"
      ],
      "metadata": {
        "id": "Arx82kXWoxPL"
      },
      "execution_count": null,
      "outputs": []
    },
    {
      "cell_type": "markdown",
      "source": [
        "# **최종 결과 파일 저장**"
      ],
      "metadata": {
        "id": "tE4KomZVvRDt"
      }
    },
    {
      "cell_type": "code",
      "source": [
        "submission_path = os.path.join(PROJECT_PATH, 'submission.csv')\n",
        "submission_df = pd.DataFrame({'answer_value': answers})\n",
        "submission_df.to_csv(submission_path)"
      ],
      "metadata": {
        "id": "J_jC6nHMo3ch"
      },
      "execution_count": null,
      "outputs": []
    }
  ]
}