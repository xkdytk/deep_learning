{
  "nbformat": 4,
  "nbformat_minor": 0,
  "metadata": {
    "colab": {
      "provenance": []
    },
    "kernelspec": {
      "name": "python3",
      "display_name": "Python 3"
    },
    "language_info": {
      "name": "python"
    }
  },
  "cells": [
    {
      "cell_type": "markdown",
      "source": [
        "# **KFOLD 학습**"
      ],
      "metadata": {
        "id": "YYxbpHmc-sT5"
      }
    },
    {
      "cell_type": "code",
      "execution_count": null,
      "metadata": {
        "id": "IU9pd1Clrt3t"
      },
      "outputs": [],
      "source": [
        "# optimizer 뒤에\n",
        "scheduler = ReduceLROnPlateau(optimizer, patience=3, factor=0.5, mode='max', verbose=True)\n",
        "\n",
        "kfold_n = 5\n",
        "datas = split_df(train_df)\n",
        "for fold in range(1, kfold_n + 1):\n",
        "    args.kfold = fold\n",
        "\n",
        "    # 하나의 fold만 사용\n",
        "    train_data = datas[args.kfold - 1][0]\n",
        "    valid_data = datas[args.kfold - 1][1]\n",
        "\n",
        "    train_dataset = ArtDataset(train_data, transform)\n",
        "    valid_dataset = ArtDataset(valid_data, transform)\n",
        "\n",
        "\n",
        "    train_loader = DataLoader(train_dataset,\n",
        "                              batch_size = hyper_parameters.batch_size,\n",
        "                              shuffle = True,\n",
        "                              num_workers = 1)\n",
        "    valid_loader = DataLoader(valid_dataset,\n",
        "                              batch_size=hyper_parameters.batch_size,\n",
        "                              shuffle=False,\n",
        "                              num_workers=1)\n",
        "\n",
        "    early_stopping_counter = 0\n",
        "    best_acc = -1\n",
        "    patience = 5\n",
        "    for epoch in range(hyper_parameters.epoch):\n",
        "\n",
        "      train_len = len(train_data)\n",
        "      valid_len = len(valid_data)\n",
        "\n",
        "      train_acc = train(model, hyper_parameters, train_loader, train_len)\n",
        "      valid_acc = validate(model, hyper_parameters, valid_loader, valid_len)\n",
        "\n",
        "      print(\"[Epoch {}] Train ACC : {}, Valid ACC : {}\".format(epoch, train_acc, valid_acc))\n",
        "\n",
        "      if valid_acc > best_acc:\n",
        "          best_acc = valid_acc\n",
        "          early_stopping_counter = 0\n",
        "\n",
        "          if args.model == 'timm':\n",
        "              save_name = f\"fold{fold}_{str(best_acc.item())[:4]}\"\n",
        "          else:\n",
        "              save_name = f\"fold{fold}_{str(best_acc.item())[:4]}\"\n",
        "\n",
        "          torch.save(model, os.path.join(PROJECT_PATH, save_name))\n",
        "          print(f'model saved! {save_name}')\n",
        "\n",
        "      else:\n",
        "          early_stopping_counter += 1\n",
        "          if early_stopping_counter >= patience:\n",
        "              print(f'EarlyStopping counter: {early_stopping_counter} out of {patience}')\n",
        "              break\n",
        "\n",
        "      # scheduler\n",
        "      scheduler.step(best_acc)"
      ]
    },
    {
      "cell_type": "markdown",
      "source": [
        "# **KFOLD 추론**"
      ],
      "metadata": {
        "id": "aXq9hGJ7-weY"
      }
    },
    {
      "cell_type": "code",
      "source": [
        "models = [\n",
        "          \"fold1_0.98\",\n",
        "          \"fold2_0.98\",\n",
        "          \"fold3_0.97\",\n",
        "          \"fold4_0.97\",\n",
        "          \"fold5_0.95\"]\n",
        "\n",
        "models = [torch.load(os.path.join(PROJECT_PATH, model)).eval() for model in models]"
      ],
      "metadata": {
        "id": "w6A3YpZq-aCY"
      },
      "execution_count": null,
      "outputs": []
    },
    {
      "cell_type": "code",
      "source": [
        "batch_size = 2\n",
        "test_dataset = ArtDataset(test_df, transform)\n",
        "test_loader = DataLoader(test_dataset,\n",
        "                         shuffle=False,\n",
        "                         num_workers=1,\n",
        "                         batch_size=batch_size)"
      ],
      "metadata": {
        "id": "Y1pcGRyx-zl0"
      },
      "execution_count": null,
      "outputs": []
    },
    {
      "cell_type": "code",
      "source": [
        "answers = []\n",
        "for images, labels in test_loader:\n",
        "    images = images.to(hyper_parameters.device)\n",
        "    labels = labels.to(hyper_parameters.device)\n",
        "\n",
        "    predicts = torch.zeros(images.size(0), 7)\n",
        "    for model in models:\n",
        "        outputs = model(images)\n",
        "        outputs = F.softmax(outputs.cpu(), dim=1)\n",
        "        predicts += outputs\n",
        "\n",
        "    # prediction들의 average 계산\n",
        "    predict_avg = predicts / len(models)\n",
        "\n",
        "    _, preds = torch.max(predict_avg, 1)\n",
        "\n",
        "    answers.extend(list(preds.cpu().numpy()))"
      ],
      "metadata": {
        "id": "MPWnZuud-9FN"
      },
      "execution_count": null,
      "outputs": []
    }
  ]
}